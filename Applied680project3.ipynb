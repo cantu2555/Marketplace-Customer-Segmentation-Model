{
 "cells": [
  {
   "cell_type": "code",
   "execution_count": 1,
   "id": "b19564ab-5004-44ce-a5a4-462cee3403e2",
   "metadata": {
    "tags": []
   },
   "outputs": [],
   "source": [
    "import pandas as pd \n",
    "import matplotlib.pyplot as plt\n",
    "from skimpy import skim"
   ]
  },
  {
   "cell_type": "code",
   "execution_count": 2,
   "id": "3562f82d-753a-447c-9a62-ea049f897876",
   "metadata": {
    "tags": []
   },
   "outputs": [
    {
     "data": {
      "text/html": [
       "<div>\n",
       "<style scoped>\n",
       "    .dataframe tbody tr th:only-of-type {\n",
       "        vertical-align: middle;\n",
       "    }\n",
       "\n",
       "    .dataframe tbody tr th {\n",
       "        vertical-align: top;\n",
       "    }\n",
       "\n",
       "    .dataframe thead th {\n",
       "        text-align: right;\n",
       "    }\n",
       "</style>\n",
       "<table border=\"1\" class=\"dataframe\">\n",
       "  <thead>\n",
       "    <tr style=\"text-align: right;\">\n",
       "      <th></th>\n",
       "      <th>Transaction ID</th>\n",
       "      <th>Date</th>\n",
       "      <th>Product Category</th>\n",
       "      <th>Product Name</th>\n",
       "      <th>Units Sold</th>\n",
       "      <th>Unit Price</th>\n",
       "      <th>Total Revenue</th>\n",
       "      <th>Region</th>\n",
       "      <th>Payment Method</th>\n",
       "    </tr>\n",
       "  </thead>\n",
       "  <tbody>\n",
       "    <tr>\n",
       "      <th>0</th>\n",
       "      <td>10001</td>\n",
       "      <td>2024-01-01</td>\n",
       "      <td>Electronics</td>\n",
       "      <td>iPhone 14 Pro</td>\n",
       "      <td>2</td>\n",
       "      <td>999.99</td>\n",
       "      <td>1999.98</td>\n",
       "      <td>North America</td>\n",
       "      <td>Credit Card</td>\n",
       "    </tr>\n",
       "    <tr>\n",
       "      <th>1</th>\n",
       "      <td>10002</td>\n",
       "      <td>2024-01-02</td>\n",
       "      <td>Home Appliances</td>\n",
       "      <td>Dyson V11 Vacuum</td>\n",
       "      <td>1</td>\n",
       "      <td>499.99</td>\n",
       "      <td>499.99</td>\n",
       "      <td>Europe</td>\n",
       "      <td>PayPal</td>\n",
       "    </tr>\n",
       "    <tr>\n",
       "      <th>2</th>\n",
       "      <td>10003</td>\n",
       "      <td>2024-01-03</td>\n",
       "      <td>Clothing</td>\n",
       "      <td>Levi's 501 Jeans</td>\n",
       "      <td>3</td>\n",
       "      <td>69.99</td>\n",
       "      <td>209.97</td>\n",
       "      <td>Asia</td>\n",
       "      <td>Debit Card</td>\n",
       "    </tr>\n",
       "    <tr>\n",
       "      <th>3</th>\n",
       "      <td>10004</td>\n",
       "      <td>2024-01-04</td>\n",
       "      <td>Books</td>\n",
       "      <td>The Da Vinci Code</td>\n",
       "      <td>4</td>\n",
       "      <td>15.99</td>\n",
       "      <td>63.96</td>\n",
       "      <td>North America</td>\n",
       "      <td>Credit Card</td>\n",
       "    </tr>\n",
       "    <tr>\n",
       "      <th>4</th>\n",
       "      <td>10005</td>\n",
       "      <td>2024-01-05</td>\n",
       "      <td>Beauty Products</td>\n",
       "      <td>Neutrogena Skincare Set</td>\n",
       "      <td>1</td>\n",
       "      <td>89.99</td>\n",
       "      <td>89.99</td>\n",
       "      <td>Europe</td>\n",
       "      <td>PayPal</td>\n",
       "    </tr>\n",
       "    <tr>\n",
       "      <th>...</th>\n",
       "      <td>...</td>\n",
       "      <td>...</td>\n",
       "      <td>...</td>\n",
       "      <td>...</td>\n",
       "      <td>...</td>\n",
       "      <td>...</td>\n",
       "      <td>...</td>\n",
       "      <td>...</td>\n",
       "      <td>...</td>\n",
       "    </tr>\n",
       "    <tr>\n",
       "      <th>235</th>\n",
       "      <td>10236</td>\n",
       "      <td>2024-08-23</td>\n",
       "      <td>Home Appliances</td>\n",
       "      <td>Nespresso Vertuo Next Coffee and Espresso Maker</td>\n",
       "      <td>1</td>\n",
       "      <td>159.99</td>\n",
       "      <td>159.99</td>\n",
       "      <td>Europe</td>\n",
       "      <td>PayPal</td>\n",
       "    </tr>\n",
       "    <tr>\n",
       "      <th>236</th>\n",
       "      <td>10237</td>\n",
       "      <td>2024-08-24</td>\n",
       "      <td>Clothing</td>\n",
       "      <td>Nike Air Force 1 Sneakers</td>\n",
       "      <td>3</td>\n",
       "      <td>90.00</td>\n",
       "      <td>270.00</td>\n",
       "      <td>Asia</td>\n",
       "      <td>Debit Card</td>\n",
       "    </tr>\n",
       "    <tr>\n",
       "      <th>237</th>\n",
       "      <td>10238</td>\n",
       "      <td>2024-08-25</td>\n",
       "      <td>Books</td>\n",
       "      <td>The Handmaid's Tale by Margaret Atwood</td>\n",
       "      <td>3</td>\n",
       "      <td>10.99</td>\n",
       "      <td>32.97</td>\n",
       "      <td>North America</td>\n",
       "      <td>Credit Card</td>\n",
       "    </tr>\n",
       "    <tr>\n",
       "      <th>238</th>\n",
       "      <td>10239</td>\n",
       "      <td>2024-08-26</td>\n",
       "      <td>Beauty Products</td>\n",
       "      <td>Sunday Riley Luna Sleeping Night Oil</td>\n",
       "      <td>1</td>\n",
       "      <td>55.00</td>\n",
       "      <td>55.00</td>\n",
       "      <td>Europe</td>\n",
       "      <td>PayPal</td>\n",
       "    </tr>\n",
       "    <tr>\n",
       "      <th>239</th>\n",
       "      <td>10240</td>\n",
       "      <td>2024-08-27</td>\n",
       "      <td>Sports</td>\n",
       "      <td>Yeti Rambler 20 oz Tumbler</td>\n",
       "      <td>2</td>\n",
       "      <td>29.99</td>\n",
       "      <td>59.98</td>\n",
       "      <td>Asia</td>\n",
       "      <td>Credit Card</td>\n",
       "    </tr>\n",
       "  </tbody>\n",
       "</table>\n",
       "<p>240 rows × 9 columns</p>\n",
       "</div>"
      ],
      "text/plain": [
       "     Transaction ID        Date Product Category  \\\n",
       "0             10001  2024-01-01      Electronics   \n",
       "1             10002  2024-01-02  Home Appliances   \n",
       "2             10003  2024-01-03         Clothing   \n",
       "3             10004  2024-01-04            Books   \n",
       "4             10005  2024-01-05  Beauty Products   \n",
       "..              ...         ...              ...   \n",
       "235           10236  2024-08-23  Home Appliances   \n",
       "236           10237  2024-08-24         Clothing   \n",
       "237           10238  2024-08-25            Books   \n",
       "238           10239  2024-08-26  Beauty Products   \n",
       "239           10240  2024-08-27           Sports   \n",
       "\n",
       "                                        Product Name  Units Sold  Unit Price  \\\n",
       "0                                      iPhone 14 Pro           2      999.99   \n",
       "1                                   Dyson V11 Vacuum           1      499.99   \n",
       "2                                   Levi's 501 Jeans           3       69.99   \n",
       "3                                  The Da Vinci Code           4       15.99   \n",
       "4                            Neutrogena Skincare Set           1       89.99   \n",
       "..                                               ...         ...         ...   \n",
       "235  Nespresso Vertuo Next Coffee and Espresso Maker           1      159.99   \n",
       "236                        Nike Air Force 1 Sneakers           3       90.00   \n",
       "237           The Handmaid's Tale by Margaret Atwood           3       10.99   \n",
       "238             Sunday Riley Luna Sleeping Night Oil           1       55.00   \n",
       "239                       Yeti Rambler 20 oz Tumbler           2       29.99   \n",
       "\n",
       "     Total Revenue         Region Payment Method  \n",
       "0          1999.98  North America    Credit Card  \n",
       "1           499.99         Europe         PayPal  \n",
       "2           209.97           Asia     Debit Card  \n",
       "3            63.96  North America    Credit Card  \n",
       "4            89.99         Europe         PayPal  \n",
       "..             ...            ...            ...  \n",
       "235         159.99         Europe         PayPal  \n",
       "236         270.00           Asia     Debit Card  \n",
       "237          32.97  North America    Credit Card  \n",
       "238          55.00         Europe         PayPal  \n",
       "239          59.98           Asia    Credit Card  \n",
       "\n",
       "[240 rows x 9 columns]"
      ]
     },
     "execution_count": 2,
     "metadata": {},
     "output_type": "execute_result"
    }
   ],
   "source": [
    "df = pd.read_csv('/Users/cantu/Documents/Data Science Masters/Applied DS DSC680 /Project 3/Online Sales Data.csv')\n",
    "df"
   ]
  },
  {
   "cell_type": "markdown",
   "id": "fea7892a-4392-4549-9485-9dd34fb93ec7",
   "metadata": {},
   "source": [
    "# Intitial exploration "
   ]
  },
  {
   "cell_type": "code",
   "execution_count": 4,
   "id": "8ae9527a-6a4d-406b-8be0-91fe87b0100b",
   "metadata": {
    "tags": []
   },
   "outputs": [
    {
     "name": "stdout",
     "output_type": "stream",
     "text": [
      "Transaction ID      0\n",
      "Date                0\n",
      "Product Category    0\n",
      "Product Name        0\n",
      "Units Sold          0\n",
      "Unit Price          0\n",
      "Total Revenue       0\n",
      "Region              0\n",
      "Payment Method      0\n",
      "dtype: int64\n"
     ]
    }
   ],
   "source": [
    "# Lets see how many rows are empty\n",
    "print(df.isnull().sum())"
   ]
  },
  {
   "cell_type": "code",
   "execution_count": 5,
   "id": "1a0f2a00-aaad-44c1-bc0b-917262af1c05",
   "metadata": {
    "tags": []
   },
   "outputs": [],
   "source": [
    "#Replace spaces in column names with '_'\n",
    "df.columns = df.columns.str.replace(' ', '_')\n"
   ]
  },
  {
   "cell_type": "code",
   "execution_count": 6,
   "id": "ad693c20-2d11-42d9-9a7e-cd36409aa43a",
   "metadata": {
    "tags": []
   },
   "outputs": [
    {
     "name": "stdout",
     "output_type": "stream",
     "text": [
      "<class 'pandas.core.frame.DataFrame'>\n",
      "RangeIndex: 240 entries, 0 to 239\n",
      "Data columns (total 9 columns):\n",
      " #   Column            Non-Null Count  Dtype  \n",
      "---  ------            --------------  -----  \n",
      " 0   Transaction_ID    240 non-null    int64  \n",
      " 1   Date              240 non-null    object \n",
      " 2   Product_Category  240 non-null    object \n",
      " 3   Product_Name      240 non-null    object \n",
      " 4   Units_Sold        240 non-null    int64  \n",
      " 5   Unit_Price        240 non-null    float64\n",
      " 6   Total_Revenue     240 non-null    float64\n",
      " 7   Region            240 non-null    object \n",
      " 8   Payment_Method    240 non-null    object \n",
      "dtypes: float64(2), int64(2), object(5)\n",
      "memory usage: 17.0+ KB\n"
     ]
    }
   ],
   "source": [
    "df.info()"
   ]
  },
  {
   "cell_type": "code",
   "execution_count": 7,
   "id": "54a53e12-732a-42dd-832c-b264caba5877",
   "metadata": {
    "tags": []
   },
   "outputs": [],
   "source": [
    "# date to date time \n",
    "df['Date'] = pd.to_datetime(df['Date'])"
   ]
  },
  {
   "cell_type": "code",
   "execution_count": 8,
   "id": "f9b56c92-37f2-41ff-ba56-b11e7273f92c",
   "metadata": {
    "tags": []
   },
   "outputs": [
    {
     "data": {
      "text/html": [
       "<pre style=\"white-space:pre;overflow-x:auto;line-height:normal;font-family:Menlo,'DejaVu Sans Mono',consolas,'Courier New',monospace\">╭──────────────────────────────────────────────── skimpy summary ─────────────────────────────────────────────────╮\n",
       "│ <span style=\"font-style: italic\">         Data Summary         </span> <span style=\"font-style: italic\">      Data Types       </span>                                                          │\n",
       "│ ┏━━━━━━━━━━━━━━━━━━━┳━━━━━━━━┓ ┏━━━━━━━━━━━━━┳━━━━━━━┓                                                          │\n",
       "│ ┃<span style=\"color: #008080; text-decoration-color: #008080; font-weight: bold\"> dataframe         </span>┃<span style=\"color: #008080; text-decoration-color: #008080; font-weight: bold\"> Values </span>┃ ┃<span style=\"color: #008080; text-decoration-color: #008080; font-weight: bold\"> Column Type </span>┃<span style=\"color: #008080; text-decoration-color: #008080; font-weight: bold\"> Count </span>┃                                                          │\n",
       "│ ┡━━━━━━━━━━━━━━━━━━━╇━━━━━━━━┩ ┡━━━━━━━━━━━━━╇━━━━━━━┩                                                          │\n",
       "│ │ Number of rows    │ 240    │ │ string      │ 4     │                                                          │\n",
       "│ │ Number of columns │ 9      │ │ int64       │ 2     │                                                          │\n",
       "│ └───────────────────┴────────┘ │ float64     │ 2     │                                                          │\n",
       "│                                │ datetime64  │ 1     │                                                          │\n",
       "│                                └─────────────┴───────┘                                                          │\n",
       "│ <span style=\"font-style: italic\">                                                    number                                                    </span>  │\n",
       "│ ┏━━━━━━━━━━━━━━━━━━━┳━━━━━┳━━━━━━━━┳━━━━━━━━━┳━━━━━━━━┳━━━━━━━━┳━━━━━━━━┳━━━━━━━━┳━━━━━━━━┳━━━━━━━━┳━━━━━━━━━┓  │\n",
       "│ ┃<span style=\"font-weight: bold\"> column_name       </span>┃<span style=\"font-weight: bold\"> NA  </span>┃<span style=\"font-weight: bold\"> NA %   </span>┃<span style=\"font-weight: bold\"> mean    </span>┃<span style=\"font-weight: bold\"> sd     </span>┃<span style=\"font-weight: bold\"> p0     </span>┃<span style=\"font-weight: bold\"> p25    </span>┃<span style=\"font-weight: bold\"> p50    </span>┃<span style=\"font-weight: bold\"> p75    </span>┃<span style=\"font-weight: bold\"> p100   </span>┃<span style=\"font-weight: bold\"> hist    </span>┃  │\n",
       "│ ┡━━━━━━━━━━━━━━━━━━━╇━━━━━╇━━━━━━━━╇━━━━━━━━━╇━━━━━━━━╇━━━━━━━━╇━━━━━━━━╇━━━━━━━━╇━━━━━━━━╇━━━━━━━━╇━━━━━━━━━┩  │\n",
       "│ │ <span style=\"color: #af87ff; text-decoration-color: #af87ff\">Transaction_ID   </span> │ <span style=\"color: #008080; text-decoration-color: #008080\">  0</span> │ <span style=\"color: #008080; text-decoration-color: #008080\">     0</span> │ <span style=\"color: #008080; text-decoration-color: #008080\">  10120</span> │ <span style=\"color: #008080; text-decoration-color: #008080\"> 69.43</span> │ <span style=\"color: #008080; text-decoration-color: #008080\"> 10000</span> │ <span style=\"color: #008080; text-decoration-color: #008080\"> 10060</span> │ <span style=\"color: #008080; text-decoration-color: #008080\"> 10120</span> │ <span style=\"color: #008080; text-decoration-color: #008080\"> 10180</span> │ <span style=\"color: #008080; text-decoration-color: #008080\"> 10240</span> │ <span style=\"color: #008000; text-decoration-color: #008000\">▇▇▇▇▇▇ </span> │  │\n",
       "│ │ <span style=\"color: #af87ff; text-decoration-color: #af87ff\">Units_Sold       </span> │ <span style=\"color: #008080; text-decoration-color: #008080\">  0</span> │ <span style=\"color: #008080; text-decoration-color: #008080\">     0</span> │ <span style=\"color: #008080; text-decoration-color: #008080\">  2.158</span> │ <span style=\"color: #008080; text-decoration-color: #008080\"> 1.322</span> │ <span style=\"color: #008080; text-decoration-color: #008080\">     1</span> │ <span style=\"color: #008080; text-decoration-color: #008080\">     1</span> │ <span style=\"color: #008080; text-decoration-color: #008080\">     2</span> │ <span style=\"color: #008080; text-decoration-color: #008080\">     3</span> │ <span style=\"color: #008080; text-decoration-color: #008080\">    10</span> │ <span style=\"color: #008000; text-decoration-color: #008000\">  ▇▂▁  </span> │  │\n",
       "│ │ <span style=\"color: #af87ff; text-decoration-color: #af87ff\">Unit_Price       </span> │ <span style=\"color: #008080; text-decoration-color: #008080\">  0</span> │ <span style=\"color: #008080; text-decoration-color: #008080\">     0</span> │ <span style=\"color: #008080; text-decoration-color: #008080\">  236.4</span> │ <span style=\"color: #008080; text-decoration-color: #008080\"> 429.4</span> │ <span style=\"color: #008080; text-decoration-color: #008080\">   6.5</span> │ <span style=\"color: #008080; text-decoration-color: #008080\">  29.5</span> │ <span style=\"color: #008080; text-decoration-color: #008080\"> 89.99</span> │ <span style=\"color: #008080; text-decoration-color: #008080\">   250</span> │ <span style=\"color: #008080; text-decoration-color: #008080\">  3900</span> │ <span style=\"color: #008000; text-decoration-color: #008000\">   ▇   </span> │  │\n",
       "│ │ <span style=\"color: #af87ff; text-decoration-color: #af87ff\">Total_Revenue    </span> │ <span style=\"color: #008080; text-decoration-color: #008080\">  0</span> │ <span style=\"color: #008080; text-decoration-color: #008080\">     0</span> │ <span style=\"color: #008080; text-decoration-color: #008080\">  335.7</span> │ <span style=\"color: #008080; text-decoration-color: #008080\"> 485.8</span> │ <span style=\"color: #008080; text-decoration-color: #008080\">   6.5</span> │ <span style=\"color: #008080; text-decoration-color: #008080\"> 62.97</span> │ <span style=\"color: #008080; text-decoration-color: #008080\">   180</span> │ <span style=\"color: #008080; text-decoration-color: #008080\"> 399.2</span> │ <span style=\"color: #008080; text-decoration-color: #008080\">  3900</span> │ <span style=\"color: #008000; text-decoration-color: #008000\">  ▇▁   </span> │  │\n",
       "│ └───────────────────┴─────┴────────┴─────────┴────────┴────────┴────────┴────────┴────────┴────────┴─────────┘  │\n",
       "│ <span style=\"font-style: italic\">                                                   datetime                                                   </span>  │\n",
       "│ ┏━━━━━━━━━━━━━━━━━━━━━━━━┳━━━━━━━━┳━━━━━━━━━━━┳━━━━━━━━━━━━━━━━━━━━━┳━━━━━━━━━━━━━━━━━━━━━┳━━━━━━━━━━━━━━━━━━┓  │\n",
       "│ ┃<span style=\"font-weight: bold\"> column_name            </span>┃<span style=\"font-weight: bold\"> NA     </span>┃<span style=\"font-weight: bold\"> NA %      </span>┃<span style=\"font-weight: bold\"> first               </span>┃<span style=\"font-weight: bold\"> last                </span>┃<span style=\"font-weight: bold\"> frequency        </span>┃  │\n",
       "│ ┡━━━━━━━━━━━━━━━━━━━━━━━━╇━━━━━━━━╇━━━━━━━━━━━╇━━━━━━━━━━━━━━━━━━━━━╇━━━━━━━━━━━━━━━━━━━━━╇━━━━━━━━━━━━━━━━━━┩  │\n",
       "│ │ <span style=\"color: #af87ff; text-decoration-color: #af87ff\">Date                  </span> │ <span style=\"color: #008080; text-decoration-color: #008080\">     0</span> │ <span style=\"color: #008080; text-decoration-color: #008080\">        0</span> │ <span style=\"color: #800000; text-decoration-color: #800000\">    2024-01-01     </span> │ <span style=\"color: #800000; text-decoration-color: #800000\">    2024-08-27     </span> │ <span style=\"color: #af87ff; text-decoration-color: #af87ff\">D               </span> │  │\n",
       "│ └────────────────────────┴────────┴───────────┴─────────────────────┴─────────────────────┴──────────────────┘  │\n",
       "│ <span style=\"font-style: italic\">                                                    string                                                    </span>  │\n",
       "│ ┏━━━━━━━━━━━━━━━━━━━━━━━━━━━━━━━━━━┳━━━━━━━━┳━━━━━━━━━━━┳━━━━━━━━━━━━━━━━━━━━━━━━━━━━┳━━━━━━━━━━━━━━━━━━━━━━━┓  │\n",
       "│ ┃<span style=\"font-weight: bold\"> column_name                      </span>┃<span style=\"font-weight: bold\"> NA     </span>┃<span style=\"font-weight: bold\"> NA %      </span>┃<span style=\"font-weight: bold\"> words per row              </span>┃<span style=\"font-weight: bold\"> total words           </span>┃  │\n",
       "│ ┡━━━━━━━━━━━━━━━━━━━━━━━━━━━━━━━━━━╇━━━━━━━━╇━━━━━━━━━━━╇━━━━━━━━━━━━━━━━━━━━━━━━━━━━╇━━━━━━━━━━━━━━━━━━━━━━━┩  │\n",
       "│ │ <span style=\"color: #af87ff; text-decoration-color: #af87ff\">Product_Category                </span> │ <span style=\"color: #008080; text-decoration-color: #008080\">     0</span> │ <span style=\"color: #008080; text-decoration-color: #008080\">        0</span> │ <span style=\"color: #008080; text-decoration-color: #008080\">                       1.3</span> │ <span style=\"color: #008080; text-decoration-color: #008080\">                  320</span> │  │\n",
       "│ │ <span style=\"color: #af87ff; text-decoration-color: #af87ff\">Product_Name                    </span> │ <span style=\"color: #008080; text-decoration-color: #008080\">     0</span> │ <span style=\"color: #008080; text-decoration-color: #008080\">        0</span> │ <span style=\"color: #008080; text-decoration-color: #008080\">                       4.4</span> │ <span style=\"color: #008080; text-decoration-color: #008080\">                 1057</span> │  │\n",
       "│ │ <span style=\"color: #af87ff; text-decoration-color: #af87ff\">Region                          </span> │ <span style=\"color: #008080; text-decoration-color: #008080\">     0</span> │ <span style=\"color: #008080; text-decoration-color: #008080\">        0</span> │ <span style=\"color: #008080; text-decoration-color: #008080\">                       1.3</span> │ <span style=\"color: #008080; text-decoration-color: #008080\">                  320</span> │  │\n",
       "│ │ <span style=\"color: #af87ff; text-decoration-color: #af87ff\">Payment_Method                  </span> │ <span style=\"color: #008080; text-decoration-color: #008080\">     0</span> │ <span style=\"color: #008080; text-decoration-color: #008080\">        0</span> │ <span style=\"color: #008080; text-decoration-color: #008080\">                       1.7</span> │ <span style=\"color: #008080; text-decoration-color: #008080\">                  400</span> │  │\n",
       "│ └──────────────────────────────────┴────────┴───────────┴────────────────────────────┴───────────────────────┘  │\n",
       "╰────────────────────────────────────────────────────── End ──────────────────────────────────────────────────────╯\n",
       "</pre>\n"
      ],
      "text/plain": [
       "╭──────────────────────────────────────────────── skimpy summary ─────────────────────────────────────────────────╮\n",
       "│ \u001b[3m         Data Summary         \u001b[0m \u001b[3m      Data Types       \u001b[0m                                                          │\n",
       "│ ┏━━━━━━━━━━━━━━━━━━━┳━━━━━━━━┓ ┏━━━━━━━━━━━━━┳━━━━━━━┓                                                          │\n",
       "│ ┃\u001b[1;36m \u001b[0m\u001b[1;36mdataframe        \u001b[0m\u001b[1;36m \u001b[0m┃\u001b[1;36m \u001b[0m\u001b[1;36mValues\u001b[0m\u001b[1;36m \u001b[0m┃ ┃\u001b[1;36m \u001b[0m\u001b[1;36mColumn Type\u001b[0m\u001b[1;36m \u001b[0m┃\u001b[1;36m \u001b[0m\u001b[1;36mCount\u001b[0m\u001b[1;36m \u001b[0m┃                                                          │\n",
       "│ ┡━━━━━━━━━━━━━━━━━━━╇━━━━━━━━┩ ┡━━━━━━━━━━━━━╇━━━━━━━┩                                                          │\n",
       "│ │ Number of rows    │ 240    │ │ string      │ 4     │                                                          │\n",
       "│ │ Number of columns │ 9      │ │ int64       │ 2     │                                                          │\n",
       "│ └───────────────────┴────────┘ │ float64     │ 2     │                                                          │\n",
       "│                                │ datetime64  │ 1     │                                                          │\n",
       "│                                └─────────────┴───────┘                                                          │\n",
       "│ \u001b[3m                                                    number                                                    \u001b[0m  │\n",
       "│ ┏━━━━━━━━━━━━━━━━━━━┳━━━━━┳━━━━━━━━┳━━━━━━━━━┳━━━━━━━━┳━━━━━━━━┳━━━━━━━━┳━━━━━━━━┳━━━━━━━━┳━━━━━━━━┳━━━━━━━━━┓  │\n",
       "│ ┃\u001b[1m \u001b[0m\u001b[1mcolumn_name      \u001b[0m\u001b[1m \u001b[0m┃\u001b[1m \u001b[0m\u001b[1mNA \u001b[0m\u001b[1m \u001b[0m┃\u001b[1m \u001b[0m\u001b[1mNA %  \u001b[0m\u001b[1m \u001b[0m┃\u001b[1m \u001b[0m\u001b[1mmean   \u001b[0m\u001b[1m \u001b[0m┃\u001b[1m \u001b[0m\u001b[1msd    \u001b[0m\u001b[1m \u001b[0m┃\u001b[1m \u001b[0m\u001b[1mp0    \u001b[0m\u001b[1m \u001b[0m┃\u001b[1m \u001b[0m\u001b[1mp25   \u001b[0m\u001b[1m \u001b[0m┃\u001b[1m \u001b[0m\u001b[1mp50   \u001b[0m\u001b[1m \u001b[0m┃\u001b[1m \u001b[0m\u001b[1mp75   \u001b[0m\u001b[1m \u001b[0m┃\u001b[1m \u001b[0m\u001b[1mp100  \u001b[0m\u001b[1m \u001b[0m┃\u001b[1m \u001b[0m\u001b[1mhist   \u001b[0m\u001b[1m \u001b[0m┃  │\n",
       "│ ┡━━━━━━━━━━━━━━━━━━━╇━━━━━╇━━━━━━━━╇━━━━━━━━━╇━━━━━━━━╇━━━━━━━━╇━━━━━━━━╇━━━━━━━━╇━━━━━━━━╇━━━━━━━━╇━━━━━━━━━┩  │\n",
       "│ │ \u001b[38;5;141mTransaction_ID   \u001b[0m │ \u001b[36m  0\u001b[0m │ \u001b[36m     0\u001b[0m │ \u001b[36m  10120\u001b[0m │ \u001b[36m 69.43\u001b[0m │ \u001b[36m 10000\u001b[0m │ \u001b[36m 10060\u001b[0m │ \u001b[36m 10120\u001b[0m │ \u001b[36m 10180\u001b[0m │ \u001b[36m 10240\u001b[0m │ \u001b[32m▇▇▇▇▇▇ \u001b[0m │  │\n",
       "│ │ \u001b[38;5;141mUnits_Sold       \u001b[0m │ \u001b[36m  0\u001b[0m │ \u001b[36m     0\u001b[0m │ \u001b[36m  2.158\u001b[0m │ \u001b[36m 1.322\u001b[0m │ \u001b[36m     1\u001b[0m │ \u001b[36m     1\u001b[0m │ \u001b[36m     2\u001b[0m │ \u001b[36m     3\u001b[0m │ \u001b[36m    10\u001b[0m │ \u001b[32m  ▇▂▁  \u001b[0m │  │\n",
       "│ │ \u001b[38;5;141mUnit_Price       \u001b[0m │ \u001b[36m  0\u001b[0m │ \u001b[36m     0\u001b[0m │ \u001b[36m  236.4\u001b[0m │ \u001b[36m 429.4\u001b[0m │ \u001b[36m   6.5\u001b[0m │ \u001b[36m  29.5\u001b[0m │ \u001b[36m 89.99\u001b[0m │ \u001b[36m   250\u001b[0m │ \u001b[36m  3900\u001b[0m │ \u001b[32m   ▇   \u001b[0m │  │\n",
       "│ │ \u001b[38;5;141mTotal_Revenue    \u001b[0m │ \u001b[36m  0\u001b[0m │ \u001b[36m     0\u001b[0m │ \u001b[36m  335.7\u001b[0m │ \u001b[36m 485.8\u001b[0m │ \u001b[36m   6.5\u001b[0m │ \u001b[36m 62.97\u001b[0m │ \u001b[36m   180\u001b[0m │ \u001b[36m 399.2\u001b[0m │ \u001b[36m  3900\u001b[0m │ \u001b[32m  ▇▁   \u001b[0m │  │\n",
       "│ └───────────────────┴─────┴────────┴─────────┴────────┴────────┴────────┴────────┴────────┴────────┴─────────┘  │\n",
       "│ \u001b[3m                                                   datetime                                                   \u001b[0m  │\n",
       "│ ┏━━━━━━━━━━━━━━━━━━━━━━━━┳━━━━━━━━┳━━━━━━━━━━━┳━━━━━━━━━━━━━━━━━━━━━┳━━━━━━━━━━━━━━━━━━━━━┳━━━━━━━━━━━━━━━━━━┓  │\n",
       "│ ┃\u001b[1m \u001b[0m\u001b[1mcolumn_name           \u001b[0m\u001b[1m \u001b[0m┃\u001b[1m \u001b[0m\u001b[1mNA    \u001b[0m\u001b[1m \u001b[0m┃\u001b[1m \u001b[0m\u001b[1mNA %     \u001b[0m\u001b[1m \u001b[0m┃\u001b[1m \u001b[0m\u001b[1mfirst              \u001b[0m\u001b[1m \u001b[0m┃\u001b[1m \u001b[0m\u001b[1mlast               \u001b[0m\u001b[1m \u001b[0m┃\u001b[1m \u001b[0m\u001b[1mfrequency       \u001b[0m\u001b[1m \u001b[0m┃  │\n",
       "│ ┡━━━━━━━━━━━━━━━━━━━━━━━━╇━━━━━━━━╇━━━━━━━━━━━╇━━━━━━━━━━━━━━━━━━━━━╇━━━━━━━━━━━━━━━━━━━━━╇━━━━━━━━━━━━━━━━━━┩  │\n",
       "│ │ \u001b[38;5;141mDate                  \u001b[0m │ \u001b[36m     0\u001b[0m │ \u001b[36m        0\u001b[0m │ \u001b[31m    2024-01-01     \u001b[0m │ \u001b[31m    2024-08-27     \u001b[0m │ \u001b[38;5;141mD               \u001b[0m │  │\n",
       "│ └────────────────────────┴────────┴───────────┴─────────────────────┴─────────────────────┴──────────────────┘  │\n",
       "│ \u001b[3m                                                    string                                                    \u001b[0m  │\n",
       "│ ┏━━━━━━━━━━━━━━━━━━━━━━━━━━━━━━━━━━┳━━━━━━━━┳━━━━━━━━━━━┳━━━━━━━━━━━━━━━━━━━━━━━━━━━━┳━━━━━━━━━━━━━━━━━━━━━━━┓  │\n",
       "│ ┃\u001b[1m \u001b[0m\u001b[1mcolumn_name                     \u001b[0m\u001b[1m \u001b[0m┃\u001b[1m \u001b[0m\u001b[1mNA    \u001b[0m\u001b[1m \u001b[0m┃\u001b[1m \u001b[0m\u001b[1mNA %     \u001b[0m\u001b[1m \u001b[0m┃\u001b[1m \u001b[0m\u001b[1mwords per row             \u001b[0m\u001b[1m \u001b[0m┃\u001b[1m \u001b[0m\u001b[1mtotal words          \u001b[0m\u001b[1m \u001b[0m┃  │\n",
       "│ ┡━━━━━━━━━━━━━━━━━━━━━━━━━━━━━━━━━━╇━━━━━━━━╇━━━━━━━━━━━╇━━━━━━━━━━━━━━━━━━━━━━━━━━━━╇━━━━━━━━━━━━━━━━━━━━━━━┩  │\n",
       "│ │ \u001b[38;5;141mProduct_Category                \u001b[0m │ \u001b[36m     0\u001b[0m │ \u001b[36m        0\u001b[0m │ \u001b[36m                       1.3\u001b[0m │ \u001b[36m                  320\u001b[0m │  │\n",
       "│ │ \u001b[38;5;141mProduct_Name                    \u001b[0m │ \u001b[36m     0\u001b[0m │ \u001b[36m        0\u001b[0m │ \u001b[36m                       4.4\u001b[0m │ \u001b[36m                 1057\u001b[0m │  │\n",
       "│ │ \u001b[38;5;141mRegion                          \u001b[0m │ \u001b[36m     0\u001b[0m │ \u001b[36m        0\u001b[0m │ \u001b[36m                       1.3\u001b[0m │ \u001b[36m                  320\u001b[0m │  │\n",
       "│ │ \u001b[38;5;141mPayment_Method                  \u001b[0m │ \u001b[36m     0\u001b[0m │ \u001b[36m        0\u001b[0m │ \u001b[36m                       1.7\u001b[0m │ \u001b[36m                  400\u001b[0m │  │\n",
       "│ └──────────────────────────────────┴────────┴───────────┴────────────────────────────┴───────────────────────┘  │\n",
       "╰────────────────────────────────────────────────────── End ──────────────────────────────────────────────────────╯\n"
      ]
     },
     "metadata": {},
     "output_type": "display_data"
    }
   ],
   "source": [
    "# general summary\n",
    "skim(df)"
   ]
  },
  {
   "cell_type": "code",
   "execution_count": 9,
   "id": "4da72b05-54e9-45de-91be-d0e69360d7c2",
   "metadata": {
    "tags": []
   },
   "outputs": [
    {
     "name": "stdout",
     "output_type": "stream",
     "text": [
      "80567.84999999999\n"
     ]
    }
   ],
   "source": [
    "# Find the toal revenue \n",
    "revenue_sum = df['Total_Revenue'].sum()\n",
    "print(revenue_sum)"
   ]
  },
  {
   "cell_type": "markdown",
   "id": "25d9e5b5-25d2-4bf1-9234-7ed2592496ea",
   "metadata": {},
   "source": [
    "# EDA"
   ]
  },
  {
   "cell_type": "markdown",
   "id": "16f7966d-7b45-4036-b994-2c3085445755",
   "metadata": {},
   "source": [
    "find the most profitable month\n",
    "what category has the most units sold or most popular \n",
    "what category is most profitable \n"
   ]
  },
  {
   "cell_type": "markdown",
   "id": "cdebd0f6-abdc-4076-802e-73a68fbc1566",
   "metadata": {
    "tags": []
   },
   "source": [
    "## What month is the most profitable? "
   ]
  },
  {
   "cell_type": "code",
   "execution_count": 13,
   "id": "b5ee0790-7304-4998-9ae4-f36c39d8ac6d",
   "metadata": {
    "tags": []
   },
   "outputs": [
    {
     "name": "stdout",
     "output_type": "stream",
     "text": [
      "Date\n",
      "2024-01    14548.32\n",
      "2024-02    10803.37\n",
      "2024-03    12849.24\n",
      "2024-04    12451.69\n",
      "2024-05     8455.49\n",
      "2024-06     7384.55\n",
      "2024-07     6797.08\n",
      "2024-08     7278.11\n",
      "Freq: M, Name: Total_Revenue, dtype: float64\n"
     ]
    }
   ],
   "source": [
    "# profit by month \n",
    "profit_by_month = df.groupby(df['Date'].dt.to_period('M'))['Total_Revenue'].sum()\n",
    "print(profit_by_month)"
   ]
  },
  {
   "cell_type": "code",
   "execution_count": 14,
   "id": "e6b20895-5514-4b63-a13a-7c149732c8cf",
   "metadata": {
    "tags": []
   },
   "outputs": [
    {
     "data": {
      "image/png": "[encoded data removed]",
      "text/plain": [
       "<Figure size 1000x600 with 1 Axes>"
      ]
     },
     "metadata": {},
     "output_type": "display_data"
    }
   ],
   "source": [
    "# Plotting\n",
    "plt.figure(figsize=(10, 6))\n",
    "profit_by_month.plot(kind='bar', color='purple')\n",
    "plt.title('Profit by Month')\n",
    "plt.xlabel('Month')\n",
    "plt.ylabel('Profit ($)')\n",
    "plt.xticks(rotation=45)\n",
    "plt.tight_layout()\n",
    "plt.show()"
   ]
  },
  {
   "cell_type": "markdown",
   "id": "bb1e826a-465a-4f41-b29e-dece2d45d0cf",
   "metadata": {
    "tags": []
   },
   "source": [
    "## What category has the most units sold? "
   ]
  },
  {
   "cell_type": "code",
   "execution_count": 16,
   "id": "8ba04fb7-b09e-401d-89af-990bb89d250c",
   "metadata": {
    "tags": []
   },
   "outputs": [
    {
     "name": "stdout",
     "output_type": "stream",
     "text": [
      "The Product Category with the most units sold is 'Clothing' with 145 units sold.\n"
     ]
    }
   ],
   "source": [
    "# groub units by category \n",
    "units_by_category = df.groupby('Product_Category')['Units_Sold'].sum() \n",
    "# find the catgorys \n",
    "cats_most_sold = units_by_category.idxmax()\n",
    "max_units_sold = units_by_category.max()\n",
    "\n",
    "print(f\"The Product Category with the most units sold is '{cats_most_sold}' with {max_units_sold} units sold.\")\n",
    "\n"
   ]
  },
  {
   "cell_type": "code",
   "execution_count": 57,
   "id": "39805012-7d41-44a6-85c0-9d83b958c3c2",
   "metadata": {
    "tags": []
   },
   "outputs": [
    {
     "name": "stdout",
     "output_type": "stream",
     "text": [
      "Product_Category\n",
      "Beauty Products     46\n",
      "Books              114\n",
      "Clothing           145\n",
      "Electronics         66\n",
      "Home Appliances     59\n",
      "Sports              88\n",
      "Name: Units_Sold, dtype: int64\n"
     ]
    }
   ],
   "source": [
    "print(units_by_category)"
   ]
  },
  {
   "cell_type": "code",
   "execution_count": 59,
   "id": "79524057-6e97-482c-be0a-95bc354b5054",
   "metadata": {
    "tags": []
   },
   "outputs": [
    {
     "data": {
      "image/png": "[encoded data removed]",
      "text/plain": [
       "<Figure size 1000x600 with 1 Axes>"
      ]
     },
     "metadata": {},
     "output_type": "display_data"
    },
    {
     "data": {
      "image/png": "[encoded data removed]",
      "text/plain": [
       "<Figure size 800x600 with 1 Axes>"
      ]
     },
     "metadata": {},
     "output_type": "display_data"
    }
   ],
   "source": [
    "# Plotting\n",
    "# Bar\n",
    "plt.figure(figsize=(10, 6))\n",
    "units_by_category.plot(kind='bar', color='gold')\n",
    "plt.title('Total Units Sold by Product Category')\n",
    "plt.xlabel('Product Category')\n",
    "plt.ylabel('Total Units Sold')\n",
    "plt.xticks(rotation=45)\n",
    "plt.tight_layout()\n",
    "plt.show()\n",
    "\n",
    "#Pie\n",
    "\n",
    "plt.figure(figsize=(8, 6))\n",
    "plt.pie(units_by_category, labels=units_by_category.index, autopct='%1.1f%%', startangle=140, colors=plt.cm.Set3.colors)\n",
    "plt.title('Total Units Sold by Product Category')\n",
    "plt.axis('equal')  # Equal aspect ratio ensures that pie is drawn as a circle.\n",
    "plt.tight_layout()\n",
    "plt.show()"
   ]
  },
  {
   "cell_type": "markdown",
   "id": "54fabe67-ae32-44d7-9e49-e803c0377e11",
   "metadata": {},
   "source": [
    "## What category is most profitable?"
   ]
  },
  {
   "cell_type": "code",
   "execution_count": 19,
   "id": "53db1fa9-953e-4f15-838a-a8a672333e78",
   "metadata": {
    "tags": []
   },
   "outputs": [
    {
     "name": "stdout",
     "output_type": "stream",
     "text": [
      "The most profitable Product Category is 'Electronics' with total revenue of $34982.41.\n"
     ]
    }
   ],
   "source": [
    "# Groupe by category and sum of revenue\n",
    "revenue_by_category = df.groupby('Product_Category')['Total_Revenue'].sum() \n",
    "# find the category with the highest total revenue\n",
    "category_most_profitable = revenue_by_category.idxmax()\n",
    "max_profit = revenue_by_category.max()\n",
    "\n",
    "print(f\"The most profitable Product Category is '{category_most_profitable}' with total revenue of ${max_profit:.2f}.\")\n"
   ]
  },
  {
   "cell_type": "code",
   "execution_count": 20,
   "id": "edec7e1e-0e3d-410d-b5f8-96d46464f78b",
   "metadata": {
    "tags": []
   },
   "outputs": [
    {
     "data": {
      "image/png": "[encoded data removed]",
      "text/plain": [
       "<Figure size 1000x600 with 1 Axes>"
      ]
     },
     "metadata": {},
     "output_type": "display_data"
    }
   ],
   "source": [
    "# Plotting\n",
    "plt.figure(figsize=(10, 6))\n",
    "plt.barh(revenue_by_category.index, revenue_by_category, color='green')\n",
    "plt.title('Total Revenue by Product Category')\n",
    "plt.xlabel('Total Revenue ($)')\n",
    "plt.ylabel('Product Category')\n",
    "plt.tight_layout()\n",
    "plt.show()\n"
   ]
  },
  {
   "cell_type": "markdown",
   "id": "cbb715bf-74b1-4181-bba2-29e591048e44",
   "metadata": {},
   "source": [
    "# Model"
   ]
  },
  {
   "cell_type": "markdown",
   "id": "9970d24f-96e4-42b2-b6cd-9e2fd4ddc5ef",
   "metadata": {},
   "source": [
    "A sales segmintation  model \n",
    "\n"
   ]
  },
  {
   "cell_type": "markdown",
   "id": "4c606649-22a3-436c-a971-9d9037b3532b",
   "metadata": {},
   "source": [
    "## feature engineering "
   ]
  },
  {
   "cell_type": "code",
   "execution_count": 24,
   "id": "87b1403a-8c85-4925-8a7a-d1c52d9d1fc8",
   "metadata": {
    "tags": []
   },
   "outputs": [
    {
     "data": {
      "text/html": [
       "<div>\n",
       "<style scoped>\n",
       "    .dataframe tbody tr th:only-of-type {\n",
       "        vertical-align: middle;\n",
       "    }\n",
       "\n",
       "    .dataframe tbody tr th {\n",
       "        vertical-align: top;\n",
       "    }\n",
       "\n",
       "    .dataframe thead th {\n",
       "        text-align: right;\n",
       "    }\n",
       "</style>\n",
       "<table border=\"1\" class=\"dataframe\">\n",
       "  <thead>\n",
       "    <tr style=\"text-align: right;\">\n",
       "      <th></th>\n",
       "      <th>Transaction_ID</th>\n",
       "      <th>Total_Spending</th>\n",
       "      <th>Number_of_Transactions</th>\n",
       "      <th>Average_Purchase_Value</th>\n",
       "      <th>Product_Category_Beauty Products</th>\n",
       "      <th>Product_Category_Books</th>\n",
       "      <th>Product_Category_Clothing</th>\n",
       "      <th>Product_Category_Electronics</th>\n",
       "      <th>Product_Category_Home Appliances</th>\n",
       "      <th>Product_Category_Sports</th>\n",
       "    </tr>\n",
       "  </thead>\n",
       "  <tbody>\n",
       "    <tr>\n",
       "      <th>0</th>\n",
       "      <td>10001</td>\n",
       "      <td>1999.98</td>\n",
       "      <td>1</td>\n",
       "      <td>1999.98</td>\n",
       "      <td>0</td>\n",
       "      <td>0</td>\n",
       "      <td>0</td>\n",
       "      <td>1</td>\n",
       "      <td>0</td>\n",
       "      <td>0</td>\n",
       "    </tr>\n",
       "    <tr>\n",
       "      <th>1</th>\n",
       "      <td>10002</td>\n",
       "      <td>499.99</td>\n",
       "      <td>1</td>\n",
       "      <td>499.99</td>\n",
       "      <td>0</td>\n",
       "      <td>0</td>\n",
       "      <td>0</td>\n",
       "      <td>0</td>\n",
       "      <td>1</td>\n",
       "      <td>0</td>\n",
       "    </tr>\n",
       "    <tr>\n",
       "      <th>2</th>\n",
       "      <td>10003</td>\n",
       "      <td>209.97</td>\n",
       "      <td>1</td>\n",
       "      <td>209.97</td>\n",
       "      <td>0</td>\n",
       "      <td>0</td>\n",
       "      <td>1</td>\n",
       "      <td>0</td>\n",
       "      <td>0</td>\n",
       "      <td>0</td>\n",
       "    </tr>\n",
       "    <tr>\n",
       "      <th>3</th>\n",
       "      <td>10004</td>\n",
       "      <td>63.96</td>\n",
       "      <td>1</td>\n",
       "      <td>63.96</td>\n",
       "      <td>0</td>\n",
       "      <td>1</td>\n",
       "      <td>0</td>\n",
       "      <td>0</td>\n",
       "      <td>0</td>\n",
       "      <td>0</td>\n",
       "    </tr>\n",
       "    <tr>\n",
       "      <th>4</th>\n",
       "      <td>10005</td>\n",
       "      <td>89.99</td>\n",
       "      <td>1</td>\n",
       "      <td>89.99</td>\n",
       "      <td>1</td>\n",
       "      <td>0</td>\n",
       "      <td>0</td>\n",
       "      <td>0</td>\n",
       "      <td>0</td>\n",
       "      <td>0</td>\n",
       "    </tr>\n",
       "  </tbody>\n",
       "</table>\n",
       "</div>"
      ],
      "text/plain": [
       "   Transaction_ID  Total_Spending  Number_of_Transactions  \\\n",
       "0           10001         1999.98                       1   \n",
       "1           10002          499.99                       1   \n",
       "2           10003          209.97                       1   \n",
       "3           10004           63.96                       1   \n",
       "4           10005           89.99                       1   \n",
       "\n",
       "   Average_Purchase_Value  Product_Category_Beauty Products  \\\n",
       "0                 1999.98                                 0   \n",
       "1                  499.99                                 0   \n",
       "2                  209.97                                 0   \n",
       "3                   63.96                                 0   \n",
       "4                   89.99                                 1   \n",
       "\n",
       "   Product_Category_Books  Product_Category_Clothing  \\\n",
       "0                       0                          0   \n",
       "1                       0                          0   \n",
       "2                       0                          1   \n",
       "3                       1                          0   \n",
       "4                       0                          0   \n",
       "\n",
       "   Product_Category_Electronics  Product_Category_Home Appliances  \\\n",
       "0                             1                                 0   \n",
       "1                             0                                 1   \n",
       "2                             0                                 0   \n",
       "3                             0                                 0   \n",
       "4                             0                                 0   \n",
       "\n",
       "   Product_Category_Sports  \n",
       "0                        0  \n",
       "1                        0  \n",
       "2                        0  \n",
       "3                        0  \n",
       "4                        0  "
      ]
     },
     "execution_count": 24,
     "metadata": {},
     "output_type": "execute_result"
    }
   ],
   "source": [
    "# calculate total spending per customer\n",
    "total_spending = df.groupby('Transaction_ID')['Total_Revenue'].sum().reset_index()\n",
    "total_spending.rename(columns={'Total_Revenue': 'Total_Spending'}, inplace=True)\n",
    "\n",
    "# calculate number of transactions per customer\n",
    "num_transactions = df.groupby('Transaction_ID').size().reset_index(name='Number_of_Transactions') # Counts each transaction per customer then makes a new column for total transactions \n",
    "\n",
    "# calculate average purchase value per customer\n",
    "avg_purchase_value = df.groupby('Transaction_ID')['Total_Revenue'].mean().reset_index()\n",
    "avg_purchase_value.rename(columns={'Total_Revenue': 'Average_Purchase_Value'}, inplace=True)\n",
    "\n",
    "# product catEgory preferences one-hot encoding\n",
    "product_categories = pd.get_dummies(df[['Transaction_ID', 'Product_Category']], columns=['Product_Category']) # Dummy variable  breaks down categories for clustering.  \n",
    "product_categories = product_categories.groupby('Transaction_ID').sum().reset_index()\n",
    "\n",
    "# mcerge all features \n",
    "customer_features = pd.merge(total_spending, num_transactions, on='Transaction_ID')\n",
    "customer_features = pd.merge(customer_features, avg_purchase_value, on='Transaction_ID')\n",
    "customer_features = pd.merge(customer_features, product_categories, on='Transaction_ID')\n",
    "\n",
    "\n",
    "\n",
    "# display the engineered features\n",
    "customer_features.head()\n"
   ]
  },
  {
   "cell_type": "code",
   "execution_count": 25,
   "id": "b90475ef-cd1a-420f-8a7d-f24f7c7e7a9c",
   "metadata": {
    "tags": []
   },
   "outputs": [
    {
     "data": {
      "text/html": [
       "<div>\n",
       "<style scoped>\n",
       "    .dataframe tbody tr th:only-of-type {\n",
       "        vertical-align: middle;\n",
       "    }\n",
       "\n",
       "    .dataframe tbody tr th {\n",
       "        vertical-align: top;\n",
       "    }\n",
       "\n",
       "    .dataframe thead th {\n",
       "        text-align: right;\n",
       "    }\n",
       "</style>\n",
       "<table border=\"1\" class=\"dataframe\">\n",
       "  <thead>\n",
       "    <tr style=\"text-align: right;\">\n",
       "      <th></th>\n",
       "      <th>Transaction_ID</th>\n",
       "      <th>Total_Spending</th>\n",
       "      <th>Number_of_Transactions</th>\n",
       "      <th>Average_Purchase_Value</th>\n",
       "      <th>Product_Category_Beauty Products</th>\n",
       "      <th>Product_Category_Books</th>\n",
       "      <th>Product_Category_Clothing</th>\n",
       "      <th>Product_Category_Electronics</th>\n",
       "      <th>Product_Category_Home Appliances</th>\n",
       "      <th>Product_Category_Sports</th>\n",
       "    </tr>\n",
       "  </thead>\n",
       "  <tbody>\n",
       "    <tr>\n",
       "      <th>0</th>\n",
       "      <td>10001</td>\n",
       "      <td>3.432984</td>\n",
       "      <td>0.0</td>\n",
       "      <td>3.432984</td>\n",
       "      <td>0</td>\n",
       "      <td>0</td>\n",
       "      <td>0</td>\n",
       "      <td>1</td>\n",
       "      <td>0</td>\n",
       "      <td>0</td>\n",
       "    </tr>\n",
       "    <tr>\n",
       "      <th>1</th>\n",
       "      <td>10002</td>\n",
       "      <td>0.338889</td>\n",
       "      <td>0.0</td>\n",
       "      <td>0.338889</td>\n",
       "      <td>0</td>\n",
       "      <td>0</td>\n",
       "      <td>0</td>\n",
       "      <td>0</td>\n",
       "      <td>1</td>\n",
       "      <td>0</td>\n",
       "    </tr>\n",
       "    <tr>\n",
       "      <th>2</th>\n",
       "      <td>10003</td>\n",
       "      <td>-0.259347</td>\n",
       "      <td>0.0</td>\n",
       "      <td>-0.259347</td>\n",
       "      <td>0</td>\n",
       "      <td>0</td>\n",
       "      <td>1</td>\n",
       "      <td>0</td>\n",
       "      <td>0</td>\n",
       "      <td>0</td>\n",
       "    </tr>\n",
       "    <tr>\n",
       "      <th>3</th>\n",
       "      <td>10004</td>\n",
       "      <td>-0.560529</td>\n",
       "      <td>0.0</td>\n",
       "      <td>-0.560529</td>\n",
       "      <td>0</td>\n",
       "      <td>1</td>\n",
       "      <td>0</td>\n",
       "      <td>0</td>\n",
       "      <td>0</td>\n",
       "      <td>0</td>\n",
       "    </tr>\n",
       "    <tr>\n",
       "      <th>4</th>\n",
       "      <td>10005</td>\n",
       "      <td>-0.506835</td>\n",
       "      <td>0.0</td>\n",
       "      <td>-0.506835</td>\n",
       "      <td>1</td>\n",
       "      <td>0</td>\n",
       "      <td>0</td>\n",
       "      <td>0</td>\n",
       "      <td>0</td>\n",
       "      <td>0</td>\n",
       "    </tr>\n",
       "  </tbody>\n",
       "</table>\n",
       "</div>"
      ],
      "text/plain": [
       "   Transaction_ID  Total_Spending  Number_of_Transactions  \\\n",
       "0           10001        3.432984                     0.0   \n",
       "1           10002        0.338889                     0.0   \n",
       "2           10003       -0.259347                     0.0   \n",
       "3           10004       -0.560529                     0.0   \n",
       "4           10005       -0.506835                     0.0   \n",
       "\n",
       "   Average_Purchase_Value  Product_Category_Beauty Products  \\\n",
       "0                3.432984                                 0   \n",
       "1                0.338889                                 0   \n",
       "2               -0.259347                                 0   \n",
       "3               -0.560529                                 0   \n",
       "4               -0.506835                                 1   \n",
       "\n",
       "   Product_Category_Books  Product_Category_Clothing  \\\n",
       "0                       0                          0   \n",
       "1                       0                          0   \n",
       "2                       0                          1   \n",
       "3                       1                          0   \n",
       "4                       0                          0   \n",
       "\n",
       "   Product_Category_Electronics  Product_Category_Home Appliances  \\\n",
       "0                             1                                 0   \n",
       "1                             0                                 1   \n",
       "2                             0                                 0   \n",
       "3                             0                                 0   \n",
       "4                             0                                 0   \n",
       "\n",
       "   Product_Category_Sports  \n",
       "0                        0  \n",
       "1                        0  \n",
       "2                        0  \n",
       "3                        0  \n",
       "4                        0  "
      ]
     },
     "execution_count": 25,
     "metadata": {},
     "output_type": "execute_result"
    }
   ],
   "source": [
    "from sklearn.preprocessing import StandardScaler\n",
    "\n",
    "# select numerical features for scaling\n",
    "numerical_features = ['Total_Spending', 'Number_of_Transactions', 'Average_Purchase_Value']\n",
    "\n",
    "# initialize scaler\n",
    "scaler = StandardScaler()\n",
    "\n",
    "# Fit and transform the numerical features\n",
    "customer_features[numerical_features] = scaler.fit_transform(customer_features[numerical_features])\n",
    "\n",
    "# display the scaled features\n",
    "customer_features.head()"
   ]
  },
  {
   "cell_type": "code",
   "execution_count": 26,
   "id": "7ff6df1c-0f80-435e-8a74-82c4a374b0dd",
   "metadata": {
    "tags": []
   },
   "outputs": [
    {
     "data": {
      "text/html": [
       "<div>\n",
       "<style scoped>\n",
       "    .dataframe tbody tr th:only-of-type {\n",
       "        vertical-align: middle;\n",
       "    }\n",
       "\n",
       "    .dataframe tbody tr th {\n",
       "        vertical-align: top;\n",
       "    }\n",
       "\n",
       "    .dataframe thead th {\n",
       "        text-align: right;\n",
       "    }\n",
       "</style>\n",
       "<table border=\"1\" class=\"dataframe\">\n",
       "  <thead>\n",
       "    <tr style=\"text-align: right;\">\n",
       "      <th></th>\n",
       "      <th>Total_Spending</th>\n",
       "      <th>Number_of_Transactions</th>\n",
       "      <th>Average_Purchase_Value</th>\n",
       "      <th>Product_Category_Beauty Products</th>\n",
       "      <th>Product_Category_Books</th>\n",
       "      <th>Product_Category_Clothing</th>\n",
       "      <th>Product_Category_Electronics</th>\n",
       "      <th>Product_Category_Home Appliances</th>\n",
       "      <th>Product_Category_Sports</th>\n",
       "      <th>Region_Asia</th>\n",
       "      <th>Region_Europe</th>\n",
       "      <th>Region_North America</th>\n",
       "    </tr>\n",
       "  </thead>\n",
       "  <tbody>\n",
       "    <tr>\n",
       "      <th>0</th>\n",
       "      <td>3.432984</td>\n",
       "      <td>0.0</td>\n",
       "      <td>3.432984</td>\n",
       "      <td>0</td>\n",
       "      <td>0</td>\n",
       "      <td>0</td>\n",
       "      <td>1</td>\n",
       "      <td>0</td>\n",
       "      <td>0</td>\n",
       "      <td>False</td>\n",
       "      <td>False</td>\n",
       "      <td>True</td>\n",
       "    </tr>\n",
       "    <tr>\n",
       "      <th>1</th>\n",
       "      <td>0.338889</td>\n",
       "      <td>0.0</td>\n",
       "      <td>0.338889</td>\n",
       "      <td>0</td>\n",
       "      <td>0</td>\n",
       "      <td>0</td>\n",
       "      <td>0</td>\n",
       "      <td>1</td>\n",
       "      <td>0</td>\n",
       "      <td>False</td>\n",
       "      <td>True</td>\n",
       "      <td>False</td>\n",
       "    </tr>\n",
       "    <tr>\n",
       "      <th>2</th>\n",
       "      <td>-0.259347</td>\n",
       "      <td>0.0</td>\n",
       "      <td>-0.259347</td>\n",
       "      <td>0</td>\n",
       "      <td>0</td>\n",
       "      <td>1</td>\n",
       "      <td>0</td>\n",
       "      <td>0</td>\n",
       "      <td>0</td>\n",
       "      <td>True</td>\n",
       "      <td>False</td>\n",
       "      <td>False</td>\n",
       "    </tr>\n",
       "    <tr>\n",
       "      <th>3</th>\n",
       "      <td>-0.560529</td>\n",
       "      <td>0.0</td>\n",
       "      <td>-0.560529</td>\n",
       "      <td>0</td>\n",
       "      <td>1</td>\n",
       "      <td>0</td>\n",
       "      <td>0</td>\n",
       "      <td>0</td>\n",
       "      <td>0</td>\n",
       "      <td>False</td>\n",
       "      <td>False</td>\n",
       "      <td>True</td>\n",
       "    </tr>\n",
       "    <tr>\n",
       "      <th>4</th>\n",
       "      <td>-0.506835</td>\n",
       "      <td>0.0</td>\n",
       "      <td>-0.506835</td>\n",
       "      <td>1</td>\n",
       "      <td>0</td>\n",
       "      <td>0</td>\n",
       "      <td>0</td>\n",
       "      <td>0</td>\n",
       "      <td>0</td>\n",
       "      <td>False</td>\n",
       "      <td>True</td>\n",
       "      <td>False</td>\n",
       "    </tr>\n",
       "  </tbody>\n",
       "</table>\n",
       "</div>"
      ],
      "text/plain": [
       "   Total_Spending  Number_of_Transactions  Average_Purchase_Value  \\\n",
       "0        3.432984                     0.0                3.432984   \n",
       "1        0.338889                     0.0                0.338889   \n",
       "2       -0.259347                     0.0               -0.259347   \n",
       "3       -0.560529                     0.0               -0.560529   \n",
       "4       -0.506835                     0.0               -0.506835   \n",
       "\n",
       "   Product_Category_Beauty Products  Product_Category_Books  \\\n",
       "0                                 0                       0   \n",
       "1                                 0                       0   \n",
       "2                                 0                       0   \n",
       "3                                 0                       1   \n",
       "4                                 1                       0   \n",
       "\n",
       "   Product_Category_Clothing  Product_Category_Electronics  \\\n",
       "0                          0                             1   \n",
       "1                          0                             0   \n",
       "2                          1                             0   \n",
       "3                          0                             0   \n",
       "4                          0                             0   \n",
       "\n",
       "   Product_Category_Home Appliances  Product_Category_Sports  Region_Asia  \\\n",
       "0                                 0                        0        False   \n",
       "1                                 1                        0        False   \n",
       "2                                 0                        0         True   \n",
       "3                                 0                        0        False   \n",
       "4                                 0                        0        False   \n",
       "\n",
       "   Region_Europe  Region_North America  \n",
       "0          False                  True  \n",
       "1           True                 False  \n",
       "2          False                 False  \n",
       "3          False                  True  \n",
       "4           True                 False  "
      ]
     },
     "execution_count": 26,
     "metadata": {},
     "output_type": "execute_result"
    }
   ],
   "source": [
    "# adding 'Region' as categorical feature, encode it\n",
    "region_encoded = pd.get_dummies(df['Region'], prefix='Region')\n",
    "customer_features = pd.concat([customer_features, region_encoded], axis=1)\n",
    "\n",
    "# drop unnecessary column 'Transaction_ID' not needed for clustering we dont need an identifier\n",
    "customer_features.drop(columns=['Transaction_ID'], inplace=True)\n",
    "\n",
    "# display the final  features \n",
    "customer_features.head()"
   ]
  },
  {
   "cell_type": "code",
   "execution_count": 47,
   "id": "7aa3bdf7-aecc-466d-90cc-a8828c63762c",
   "metadata": {
    "tags": []
   },
   "outputs": [
    {
     "name": "stderr",
     "output_type": "stream",
     "text": [
      "/Users/cantu/anaconda3/lib/python3.11/site-packages/sklearn/cluster/_kmeans.py:1412: FutureWarning: The default value of `n_init` will change from 10 to 'auto' in 1.4. Set the value of `n_init` explicitly to suppress the warning\n",
      "  super()._check_params_vs_input(X, default_n_init=10)\n"
     ]
    },
    {
     "data": {
      "text/html": [
       "<div>\n",
       "<style scoped>\n",
       "    .dataframe tbody tr th:only-of-type {\n",
       "        vertical-align: middle;\n",
       "    }\n",
       "\n",
       "    .dataframe tbody tr th {\n",
       "        vertical-align: top;\n",
       "    }\n",
       "\n",
       "    .dataframe thead th {\n",
       "        text-align: right;\n",
       "    }\n",
       "</style>\n",
       "<table border=\"1\" class=\"dataframe\">\n",
       "  <thead>\n",
       "    <tr style=\"text-align: right;\">\n",
       "      <th></th>\n",
       "      <th>Total_Spending</th>\n",
       "      <th>Number_of_Transactions</th>\n",
       "      <th>Average_Purchase_Value</th>\n",
       "      <th>Product_Category_Beauty Products</th>\n",
       "      <th>Product_Category_Books</th>\n",
       "      <th>Product_Category_Clothing</th>\n",
       "      <th>Product_Category_Electronics</th>\n",
       "      <th>Product_Category_Home Appliances</th>\n",
       "      <th>Product_Category_Sports</th>\n",
       "      <th>Region_Asia</th>\n",
       "      <th>Region_Europe</th>\n",
       "      <th>Region_North America</th>\n",
       "      <th>Cluster</th>\n",
       "    </tr>\n",
       "  </thead>\n",
       "  <tbody>\n",
       "    <tr>\n",
       "      <th>0</th>\n",
       "      <td>3.432984</td>\n",
       "      <td>0.0</td>\n",
       "      <td>3.432984</td>\n",
       "      <td>0</td>\n",
       "      <td>0</td>\n",
       "      <td>0</td>\n",
       "      <td>1</td>\n",
       "      <td>0</td>\n",
       "      <td>0</td>\n",
       "      <td>False</td>\n",
       "      <td>False</td>\n",
       "      <td>True</td>\n",
       "      <td>3</td>\n",
       "    </tr>\n",
       "    <tr>\n",
       "      <th>1</th>\n",
       "      <td>0.338889</td>\n",
       "      <td>0.0</td>\n",
       "      <td>0.338889</td>\n",
       "      <td>0</td>\n",
       "      <td>0</td>\n",
       "      <td>0</td>\n",
       "      <td>0</td>\n",
       "      <td>1</td>\n",
       "      <td>0</td>\n",
       "      <td>False</td>\n",
       "      <td>True</td>\n",
       "      <td>False</td>\n",
       "      <td>1</td>\n",
       "    </tr>\n",
       "    <tr>\n",
       "      <th>2</th>\n",
       "      <td>-0.259347</td>\n",
       "      <td>0.0</td>\n",
       "      <td>-0.259347</td>\n",
       "      <td>0</td>\n",
       "      <td>0</td>\n",
       "      <td>1</td>\n",
       "      <td>0</td>\n",
       "      <td>0</td>\n",
       "      <td>0</td>\n",
       "      <td>True</td>\n",
       "      <td>False</td>\n",
       "      <td>False</td>\n",
       "      <td>0</td>\n",
       "    </tr>\n",
       "    <tr>\n",
       "      <th>3</th>\n",
       "      <td>-0.560529</td>\n",
       "      <td>0.0</td>\n",
       "      <td>-0.560529</td>\n",
       "      <td>0</td>\n",
       "      <td>1</td>\n",
       "      <td>0</td>\n",
       "      <td>0</td>\n",
       "      <td>0</td>\n",
       "      <td>0</td>\n",
       "      <td>False</td>\n",
       "      <td>False</td>\n",
       "      <td>True</td>\n",
       "      <td>0</td>\n",
       "    </tr>\n",
       "    <tr>\n",
       "      <th>4</th>\n",
       "      <td>-0.506835</td>\n",
       "      <td>0.0</td>\n",
       "      <td>-0.506835</td>\n",
       "      <td>1</td>\n",
       "      <td>0</td>\n",
       "      <td>0</td>\n",
       "      <td>0</td>\n",
       "      <td>0</td>\n",
       "      <td>0</td>\n",
       "      <td>False</td>\n",
       "      <td>True</td>\n",
       "      <td>False</td>\n",
       "      <td>0</td>\n",
       "    </tr>\n",
       "  </tbody>\n",
       "</table>\n",
       "</div>"
      ],
      "text/plain": [
       "   Total_Spending  Number_of_Transactions  Average_Purchase_Value  \\\n",
       "0        3.432984                     0.0                3.432984   \n",
       "1        0.338889                     0.0                0.338889   \n",
       "2       -0.259347                     0.0               -0.259347   \n",
       "3       -0.560529                     0.0               -0.560529   \n",
       "4       -0.506835                     0.0               -0.506835   \n",
       "\n",
       "   Product_Category_Beauty Products  Product_Category_Books  \\\n",
       "0                                 0                       0   \n",
       "1                                 0                       0   \n",
       "2                                 0                       0   \n",
       "3                                 0                       1   \n",
       "4                                 1                       0   \n",
       "\n",
       "   Product_Category_Clothing  Product_Category_Electronics  \\\n",
       "0                          0                             1   \n",
       "1                          0                             0   \n",
       "2                          1                             0   \n",
       "3                          0                             0   \n",
       "4                          0                             0   \n",
       "\n",
       "   Product_Category_Home Appliances  Product_Category_Sports  Region_Asia  \\\n",
       "0                                 0                        0        False   \n",
       "1                                 1                        0        False   \n",
       "2                                 0                        0         True   \n",
       "3                                 0                        0        False   \n",
       "4                                 0                        0        False   \n",
       "\n",
       "   Region_Europe  Region_North America  Cluster  \n",
       "0          False                  True        3  \n",
       "1           True                 False        1  \n",
       "2          False                 False        0  \n",
       "3          False                  True        0  \n",
       "4           True                 False        0  "
      ]
     },
     "execution_count": 47,
     "metadata": {},
     "output_type": "execute_result"
    }
   ],
   "source": [
    "from sklearn.cluster import KMeans\n",
    "\n",
    "# initialize K-means clustering with a chosen number of clusters \n",
    "k = 4  #  4 clusters\n",
    "kmeans = KMeans(n_clusters=k, random_state=42)\n",
    "\n",
    "# Fit k-means to the data excluding categorical features\n",
    "clustering_features = customer_features.drop(columns=['Region_Asia', 'Region_Europe', 'Region_North America'])\n",
    "kmeans.fit(clustering_features)\n",
    "\n",
    "# get cluster labels\n",
    "cluster_labels = kmeans.labels_\n",
    "\n",
    "# add cluster labels to the customer_features \n",
    "customer_features['Cluster'] = cluster_labels\n",
    "\n",
    "#  rows with cluster labels\n",
    "customer_features.head()"
   ]
  },
  {
   "cell_type": "code",
   "execution_count": 51,
   "id": "bbcc6178-e5d3-40ed-8e9d-6769ba055d33",
   "metadata": {
    "tags": []
   },
   "outputs": [
    {
     "name": "stdout",
     "output_type": "stream",
     "text": [
      "         Total_Spending  Number_of_Transactions  Average_Purchase_Value  \\\n",
      "Cluster                                                                   \n",
      "0             -0.515718                     0.0               -0.515718   \n",
      "1             -0.027199                     0.0               -0.027199   \n",
      "2              1.548393                     0.0                1.548393   \n",
      "3              4.565450                     0.0                4.565450   \n",
      "\n",
      "         Product_Category_Beauty Products  Product_Category_Books  \\\n",
      "Cluster                                                             \n",
      "0                                0.342105                0.350877   \n",
      "1                                0.010204                0.000000   \n",
      "2                                0.000000                0.000000   \n",
      "3                                0.000000                0.000000   \n",
      "\n",
      "         Product_Category_Clothing  Product_Category_Electronics  \\\n",
      "Cluster                                                            \n",
      "0                         0.298246                      0.008772   \n",
      "1                         0.061224                      0.183673   \n",
      "2                         0.000000                      0.772727   \n",
      "3                         0.000000                      0.666667   \n",
      "\n",
      "         Product_Category_Home Appliances  Product_Category_Sports  \\\n",
      "Cluster                                                              \n",
      "0                                0.000000                 0.000000   \n",
      "1                                0.357143                 0.387755   \n",
      "2                                0.181818                 0.045455   \n",
      "3                                0.166667                 0.166667   \n",
      "\n",
      "         Region_Asia  Region_Europe  Region_North America  \n",
      "Cluster                                                    \n",
      "0           0.298246       0.342105              0.359649  \n",
      "1           0.448980       0.367347              0.183673  \n",
      "2           0.045455       0.181818              0.772727  \n",
      "3           0.166667       0.166667              0.666667  \n"
     ]
    },
    {
     "data": {
      "text/plain": [
       "Cluster\n",
       "0    114\n",
       "1     98\n",
       "2     22\n",
       "3      6\n",
       "Name: count, dtype: int64"
      ]
     },
     "execution_count": 51,
     "metadata": {},
     "output_type": "execute_result"
    }
   ],
   "source": [
    "# cluster characteristics \n",
    "cluster_means = customer_features.groupby('Cluster').mean()\n",
    "print(cluster_means)\n",
    "\n",
    "# cluster sizes\n",
    "cluster_sizes = customer_features['Cluster'].value_counts()\n",
    "cluster_sizes"
   ]
  },
  {
   "cell_type": "code",
   "execution_count": 65,
   "id": "6aebaa8d-74a0-43f5-9a14-cf345df5c72e",
   "metadata": {
    "tags": []
   },
   "outputs": [
    {
     "data": {
      "image/png": "[encoded data removed]",
      "text/plain": [
       "<Figure size 1000x600 with 1 Axes>"
      ]
     },
     "metadata": {},
     "output_type": "display_data"
    }
   ],
   "source": [
    "import matplotlib.pyplot as plt\n",
    "import seaborn as sns\n",
    "from sklearn.decomposition import PCA\n",
    "\n",
    "# PCA to reduce the dimensionality \n",
    "pca = PCA(n_components=2)\n",
    "pca_components = pca.fit_transform(clustering_features)\n",
    "\n",
    "# cluster labels to the PCA components\n",
    "pca_df = pd.DataFrame(data=pca_components, columns=['PC1', 'PC2'])\n",
    "pca_df['Cluster'] = cluster_labels\n",
    "\n",
    "# Plot \n",
    "plt.figure(figsize=(10, 6))\n",
    "sns.scatterplot(x='PC1', y='PC2', hue='Cluster', data=pca_df, palette='viridis', s=100)\n",
    "plt.title('Customer Segmentation')\n",
    "plt.xlabel('Principal Component 1')\n",
    "plt.ylabel('Principal Component 2')\n",
    "plt.legend(title='Cluster')\n",
    "plt.show()\n"
   ]
  },
  {
   "cell_type": "markdown",
   "id": "9072c86e-6849-4b1c-a9d9-d8a71916b348",
   "metadata": {},
   "source": [
    "## Interpretation of Clusters\n",
    "Cluster Characteristics:\n",
    "Cluster 0:\n",
    "\n",
    "Moderate spending and average purchase value.\n",
    "Preferences towards Beauty Products, Books, Clothing.\n",
    "Region distribution across Asia, Europe, and North America.\n",
    "Cluster 1:\n",
    "\n",
    "Lower spending and average purchase value.\n",
    "Strong preferences towards Home Appliances and Sports.\n",
    "Predominantly located in Asia and Europe.\n",
    "Cluster 2:\n",
    "\n",
    "High spending and average purchase value.\n",
    "Strong preference towards Electronics.\n",
    "Dominantly located in North America.\n",
    "Cluster 3:\n",
    "\n",
    "Very high spending and average purchase value.\n",
    "Strong preference towards Electronics and Home Appliances.\n",
    "Even distribution across Asia, Europe, and North America.\n",
    "Cluster Sizes:\n",
    "Cluster 0: 114 customers\n",
    "Cluster 1: 98 customers\n",
    "Cluster 2: 22 customers\n",
    "Cluster 3: 6 customers\n",
    "\n",
    "## Actionable Insights:\n",
    "Based on the characteristics of each cluster, here are some actionable insights:\n",
    "\n",
    "Cluster 0 (Moderate Spenders, Diverse Preferences):\n",
    "\n",
    "Targeted marketing campaigns focusing on Beauty Products, Books, and Clothing could resonate well.\n",
    "Implement personalized recommendations based on previous purchases in these categories.\n",
    "Cluster 1 (Lower Spenders, Home Appliances & Sports Enthusiasts):\n",
    "\n",
    "Offer promotions or discounts on Home Appliances and Sports products to capitalize on their preferences.\n",
    "Consider strategies to increase average purchase value through bundling or cross-selling.\n",
    "Cluster 2 (High Spenders, Electronics Enthusiasts):\n",
    "\n",
    "Focus on maintaining customer loyalty and satisfaction in Electronics.\n",
    "Launch new product lines or exclusive offers to further engage this customer segment.\n",
    "Cluster 3 (Very High Spenders, Electronics & Home Appliances):\n",
    "\n",
    "Provide personalized VIP treatment and exclusive offers to strengthen loyalty.\n",
    "Gather feedback to understand their needs and preferences better, potentially leading to premium service offerings.\n",
    "\n",
    "# Next Steps:\n",
    "Targeted Marketing: Tailor marketing strategies and promotional offers based on each cluster's preferences and spending behavior.\n",
    "Product Development: Use insights to develop new products or improve existing ones that cater to specific cluster preferences.\n",
    "Customer Engagement: Implement personalized customer service initiatives to enhance satisfaction and retention."
   ]
  },
  {
   "cell_type": "code",
   "execution_count": null,
   "id": "1661aee0-0a06-4b4b-b0b9-52e3da701280",
   "metadata": {},
   "outputs": [],
   "source": []
  }
 ],
 "metadata": {
  "kernelspec": {
   "display_name": "Python 3 (ipykernel)",
   "language": "python",
   "name": "python3"
  },
  "language_info": {
   "codemirror_mode": {
    "name": "ipython",
    "version": 3
   },
   "file_extension": ".py",
   "mimetype": "text/x-python",
   "name": "python",
   "nbconvert_exporter": "python",
   "pygments_lexer": "ipython3",
   "version": "3.11.4"
  }
 },
 "nbformat": 4,
 "nbformat_minor": 5
}
